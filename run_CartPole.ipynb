{
 "cells": [
  {
   "cell_type": "code",
   "execution_count": 1,
   "id": "daily-arbor",
   "metadata": {},
   "outputs": [],
   "source": [
    "import gym\n",
    "from RL_brain import DeepQNetwork\n",
    "import matplotlib.pyplot as plt\n",
    "from IPython import display\n",
    "%matplotlib inline\n",
    "from gym import wrappers"
   ]
  },
  {
   "cell_type": "code",
   "execution_count": 2,
   "id": "valued-destination",
   "metadata": {},
   "outputs": [
    {
     "name": "stdout",
     "output_type": "stream",
     "text": [
      "Discrete(2)\n",
      "Box(-3.4028234663852886e+38, 3.4028234663852886e+38, (4,), float32)\n",
      "[4.8000002e+00 3.4028235e+38 4.1887903e-01 3.4028235e+38]\n",
      "[-4.8000002e+00 -3.4028235e+38 -4.1887903e-01 -3.4028235e+38]\n"
     ]
    }
   ],
   "source": [
    "env = gym.make('CartPole-v0')\n",
    "env = env.unwrapped\n",
    "env.reset()\n",
    "\n",
    "print(env.action_space)\n",
    "print(env.observation_space)\n",
    "print(env.observation_space.high)\n",
    "print(env.observation_space.low)"
   ]
  },
  {
   "cell_type": "code",
   "execution_count": 3,
   "id": "latin-twenty",
   "metadata": {},
   "outputs": [],
   "source": [
    "def show_state(env, step=0, episode=0, info=\"\"):\n",
    "    plt.figure(3)\n",
    "    plt.clf()\n",
    "    plt.imshow(env.render(mode='rgb_array'))\n",
    "    plt.title(\"Episode = %d, Step= %d\" % (episode, step))\n",
    "    plt.axis('off')\n",
    "\n",
    "    display.clear_output(wait=True)\n",
    "    display.display(plt.gcf())"
   ]
  },
  {
   "cell_type": "code",
   "execution_count": null,
   "id": "saved-optimum",
   "metadata": {},
   "outputs": [
    {
     "data": {
      "image/png": "[encoded data removed]",
      "text/plain": [
       "<Figure size 432x288 with 1 Axes>"
      ]
     },
     "metadata": {},
     "output_type": "display_data"
    }
   ],
   "source": [
    "RL = DeepQNetwork(n_actions=env.action_space.n,\n",
    "                  n_features=env.observation_space.shape[0],\n",
    "                  learning_rate=0.01, e_greedy=0.9,\n",
    "                  replace_target_iter=100, memory_size=2000,\n",
    "                  e_greedy_increment=0.001,)\n",
    "\n",
    "total_steps = 0\n",
    "\n",
    "\n",
    "for i_episode in range(100):\n",
    "\n",
    "    observation = env.reset()\n",
    "    ep_r = 0\n",
    "    steps = 0\n",
    "    while True:\n",
    "        show_state(env, steps, i_episode)\n",
    "\n",
    "        action = RL.choose_action(observation)\n",
    "\n",
    "        observation_, reward, done, info = env.step(action)\n",
    "\n",
    "        # the smaller theta and closer to center the better\n",
    "        x, x_dot, theta, theta_dot = observation_\n",
    "        r1 = (env.x_threshold - abs(x))/env.x_threshold - 0.8\n",
    "        r2 = (env.theta_threshold_radians - abs(theta))/env.theta_threshold_radians - 0.5\n",
    "        reward = r1 + r2\n",
    "\n",
    "        RL.store_transition(observation, action, reward, observation_)\n",
    "\n",
    "        ep_r += reward\n",
    "        if total_steps > 1000:\n",
    "            RL.learn()\n",
    "\n",
    "        if done:\n",
    "            print('episode: ', i_episode,\n",
    "                  'ep_r: ', round(ep_r, 2),\n",
    "                  ' epsilon: ', round(RL.epsilon, 2))\n",
    "            break\n",
    "\n",
    "        observation = observation_\n",
    "        total_steps += 1\n",
    "        steps += 1"
   ]
  },
  {
   "cell_type": "code",
   "execution_count": 5,
   "id": "sonic-survival",
   "metadata": {},
   "outputs": [
    {
     "data": {
      "image/png": "[encoded data removed]",
      "text/plain": [
       "<Figure size 432x288 with 1 Axes>"
      ]
     },
     "metadata": {
      "needs_background": "light"
     },
     "output_type": "display_data"
    }
   ],
   "source": [
    "RL.plot_cost()"
   ]
  }
 ],
 "metadata": {
  "kernelspec": {
   "display_name": "Python 3",
   "language": "python",
   "name": "python3"
  },
  "language_info": {
   "codemirror_mode": {
    "name": "ipython",
    "version": 3
   },
   "file_extension": ".py",
   "mimetype": "text/x-python",
   "name": "python",
   "nbconvert_exporter": "python",
   "pygments_lexer": "ipython3",
   "version": "3.6.12"
  }
 },
 "nbformat": 4,
 "nbformat_minor": 5
}
